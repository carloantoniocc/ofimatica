{
 "cells": [
  {
   "cell_type": "code",
   "execution_count": 48,
   "metadata": {},
   "outputs": [],
   "source": [
    "import pandas as pd\n",
    "import numpy as np\n",
    "import matplotlib as plt\n",
    "from itertools import cycle\n",
    "from sqlalchemy import create_engine"
   ]
  },
  {
   "cell_type": "markdown",
   "metadata": {},
   "source": [
    "conexion a base de datos"
   ]
  },
  {
   "cell_type": "code",
   "execution_count": 17,
   "metadata": {},
   "outputs": [],
   "source": [
    "usuario = 'ccornejo'\n",
    "contrasena = '12345678'\n",
    "url_servidor = '10.8.64.44'\n",
    "puerto = '3306'\n",
    "esquema = 'siscont'\n"
   ]
  },
  {
   "cell_type": "code",
   "execution_count": 18,
   "metadata": {},
   "outputs": [],
   "source": [
    "c_conexion = 'mysql+mysqlconnector://{0}:{1}@{2}:{3}/{4}'\n",
    "c_conexion = c_conexion.format(usuario, contrasena, url_servidor, puerto, esquema                               )\n"
   ]
  },
  {
   "cell_type": "code",
   "execution_count": 19,
   "metadata": {},
   "outputs": [],
   "source": [
    "motor_mysql_mariadb = create_engine(c_conexion)"
   ]
  },
  {
   "cell_type": "code",
   "execution_count": 23,
   "metadata": {},
   "outputs": [],
   "source": [
    "consulta_sql = 'select * from vw_pacientes'\n"
   ]
  },
  {
   "cell_type": "code",
   "execution_count": 24,
   "metadata": {},
   "outputs": [],
   "source": [
    "datos = pd.read_sql_query(consulta_sql, motor_mysql_mariadb)"
   ]
  },
  {
   "cell_type": "code",
   "execution_count": 26,
   "metadata": {},
   "outputs": [],
   "source": [
    "sic = datos"
   ]
  },
  {
   "cell_type": "code",
   "execution_count": 39,
   "metadata": {},
   "outputs": [],
   "source": [
    "def digito_verificador(rut):\n",
    "    reversed_digits = map(int, reversed(str(rut)))\n",
    "    factors = cycle(range(2, 8))\n",
    "    s = sum(d * f for d, f in zip(reversed_digits, factors))\n",
    "    dv = (-s) % 11\n",
    "    if dv == 11: dv=0\n",
    "    elif dv == 10: dv=\"K\"\n",
    "    return dv"
   ]
  },
  {
   "cell_type": "code",
   "execution_count": 40,
   "metadata": {},
   "outputs": [],
   "source": [
    "def reemplazamayuscula(dv):\n",
    "    return dv.upper()"
   ]
  },
  {
   "cell_type": "code",
   "execution_count": 27,
   "metadata": {},
   "outputs": [
    {
     "data": {
      "text/plain": [
       "(771494, 26)"
      ]
     },
     "execution_count": 27,
     "metadata": {},
     "output_type": "execute_result"
    }
   ],
   "source": [
    "sic.shape"
   ]
  },
  {
   "cell_type": "code",
   "execution_count": 28,
   "metadata": {},
   "outputs": [
    {
     "data": {
      "text/plain": [
       "Index(['id', 'tipoDoc', 'rut', 'dv', 'numDoc', 'nombre', 'apPaterno',\n",
       "       'apMaterno', 'fechaNacimiento', 'genero', 'prevision', 'tramo', 'prais',\n",
       "       'funcionario', 'vias', 'direccion', 'numero', 'x', 'y', 'codcomuna',\n",
       "       'comuna', 'telefono', 'telefono2', 'email', 'created_at', 'updated_at'],\n",
       "      dtype='object')"
      ]
     },
     "execution_count": 28,
     "metadata": {},
     "output_type": "execute_result"
    }
   ],
   "source": [
    "sic.columns"
   ]
  },
  {
   "cell_type": "markdown",
   "metadata": {},
   "source": [
    "Formato"
   ]
  },
  {
   "cell_type": "code",
   "execution_count": 29,
   "metadata": {},
   "outputs": [
    {
     "data": {
      "text/plain": [
       "id                          int64\n",
       "tipoDoc                     int64\n",
       "rut                       float64\n",
       "dv                         object\n",
       "numDoc                     object\n",
       "nombre                     object\n",
       "apPaterno                  object\n",
       "apMaterno                  object\n",
       "fechaNacimiento            object\n",
       "genero                     object\n",
       "prevision                  object\n",
       "tramo                      object\n",
       "prais                      object\n",
       "funcionario                 int64\n",
       "vias                       object\n",
       "direccion                  object\n",
       "numero                     object\n",
       "x                         float64\n",
       "y                         float64\n",
       "codcomuna                  object\n",
       "comuna                     object\n",
       "telefono                   object\n",
       "telefono2                  object\n",
       "email                      object\n",
       "created_at         datetime64[ns]\n",
       "updated_at         datetime64[ns]\n",
       "dtype: object"
      ]
     },
     "execution_count": 29,
     "metadata": {},
     "output_type": "execute_result"
    }
   ],
   "source": [
    "sic.dtypes"
   ]
  },
  {
   "cell_type": "code",
   "execution_count": 30,
   "metadata": {},
   "outputs": [
    {
     "data": {
      "text/plain": [
       "1353"
      ]
     },
     "execution_count": 30,
     "metadata": {},
     "output_type": "execute_result"
    }
   ],
   "source": [
    "sic['rut'].isnull().sum(axis=0)"
   ]
  },
  {
   "cell_type": "code",
   "execution_count": 31,
   "metadata": {},
   "outputs": [
    {
     "data": {
      "text/plain": [
       "1374"
      ]
     },
     "execution_count": 31,
     "metadata": {},
     "output_type": "execute_result"
    }
   ],
   "source": [
    "sic['dv'].isnull().sum(axis=0)"
   ]
  },
  {
   "cell_type": "code",
   "execution_count": 33,
   "metadata": {},
   "outputs": [],
   "source": [
    "sic['run'] = sic['rut'].fillna(0)"
   ]
  },
  {
   "cell_type": "code",
   "execution_count": 34,
   "metadata": {},
   "outputs": [],
   "source": [
    "sic['dv'] = sic['dv'].fillna('SIN DV')"
   ]
  },
  {
   "cell_type": "markdown",
   "metadata": {},
   "source": [
    "Cambio tipo de datos."
   ]
  },
  {
   "cell_type": "code",
   "execution_count": 35,
   "metadata": {},
   "outputs": [],
   "source": [
    "sic['run'] = sic['run'].astype('int64') "
   ]
  },
  {
   "cell_type": "code",
   "execution_count": 36,
   "metadata": {},
   "outputs": [],
   "source": [
    "sic['dv'] = sic['dv'].astype('str')"
   ]
  },
  {
   "cell_type": "code",
   "execution_count": 37,
   "metadata": {},
   "outputs": [
    {
     "data": {
      "text/plain": [
       "Index(['id', 'tipodoc', 'rut', 'dv', 'numdoc', 'nombre', 'appaterno',\n",
       "       'apmaterno', 'fechanacimiento', 'genero', 'prevision', 'tramo', 'prais',\n",
       "       'funcionario', 'vias', 'direccion', 'numero', 'x', 'y', 'codcomuna',\n",
       "       'comuna', 'telefono', 'telefono2', 'email', 'created_at', 'updated_at',\n",
       "       'run'],\n",
       "      dtype='object')"
      ]
     },
     "execution_count": 37,
     "metadata": {},
     "output_type": "execute_result"
    }
   ],
   "source": [
    "sic.columns.str.lower().str.replace(' ', '')"
   ]
  },
  {
   "cell_type": "code",
   "execution_count": 41,
   "metadata": {},
   "outputs": [],
   "source": [
    "sic['dv'] = sic['dv'].apply(reemplazamayuscula)"
   ]
  },
  {
   "cell_type": "code",
   "execution_count": 42,
   "metadata": {},
   "outputs": [],
   "source": [
    "sic['dvrev'] = sic['run'].apply(digito_verificador)"
   ]
  },
  {
   "cell_type": "code",
   "execution_count": 43,
   "metadata": {},
   "outputs": [],
   "source": [
    "sic['dvrev'] = sic['dvrev'].astype('str')"
   ]
  },
  {
   "cell_type": "code",
   "execution_count": 44,
   "metadata": {},
   "outputs": [
    {
     "data": {
      "text/plain": [
       "id                          int64\n",
       "tipoDoc                     int64\n",
       "rut                       float64\n",
       "dv                         object\n",
       "numDoc                     object\n",
       "nombre                     object\n",
       "apPaterno                  object\n",
       "apMaterno                  object\n",
       "fechaNacimiento            object\n",
       "genero                     object\n",
       "prevision                  object\n",
       "tramo                      object\n",
       "prais                      object\n",
       "funcionario                 int64\n",
       "vias                       object\n",
       "direccion                  object\n",
       "numero                     object\n",
       "x                         float64\n",
       "y                         float64\n",
       "codcomuna                  object\n",
       "comuna                     object\n",
       "telefono                   object\n",
       "telefono2                  object\n",
       "email                      object\n",
       "created_at         datetime64[ns]\n",
       "updated_at         datetime64[ns]\n",
       "run                         int64\n",
       "dvrev                      object\n",
       "dtype: object"
      ]
     },
     "execution_count": 44,
     "metadata": {},
     "output_type": "execute_result"
    }
   ],
   "source": [
    "sic.dtypes"
   ]
  },
  {
   "cell_type": "markdown",
   "metadata": {},
   "source": [
    "## definir condicionales"
   ]
  },
  {
   "cell_type": "code",
   "execution_count": 45,
   "metadata": {},
   "outputs": [],
   "source": [
    "sic['comparacion'] = np.where(sic['dv']==sic['dvrev'], 'OK', 'ERROR')"
   ]
  },
  {
   "cell_type": "code",
   "execution_count": null,
   "metadata": {},
   "outputs": [],
   "source": [
    "sic.to_excel('revisado.xlsx')"
   ]
  }
 ],
 "metadata": {
  "kernelspec": {
   "display_name": "Python 3",
   "language": "python",
   "name": "python3"
  },
  "language_info": {
   "codemirror_mode": {
    "name": "ipython",
    "version": 3
   },
   "file_extension": ".py",
   "mimetype": "text/x-python",
   "name": "python",
   "nbconvert_exporter": "python",
   "pygments_lexer": "ipython3",
   "version": "3.11.4"
  },
  "orig_nbformat": 4
 },
 "nbformat": 4,
 "nbformat_minor": 2
}
