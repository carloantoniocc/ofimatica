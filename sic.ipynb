{
 "cells": [
  {
   "cell_type": "code",
   "execution_count": 2,
   "metadata": {},
   "outputs": [],
   "source": [
    "import pandas as pd\n",
    "import numpy as np\n",
    "from itertools import cycle\n",
    "from sqlalchemy import create_engine"
   ]
  },
  {
   "cell_type": "markdown",
   "metadata": {},
   "source": [
    "conexion a base de datos"
   ]
  },
  {
   "cell_type": "code",
   "execution_count": 17,
   "metadata": {},
   "outputs": [],
   "source": [
    "usuario = 'ccornejo'\n",
    "contrasena = '12345678'\n",
    "url_servidor = '10.8.64.44'\n",
    "puerto = '3306'\n",
    "esquema = 'siscont'\n"
   ]
  },
  {
   "cell_type": "code",
   "execution_count": 18,
   "metadata": {},
   "outputs": [],
   "source": [
    "c_conexion = 'mysql+mysqlconnector://{0}:{1}@{2}:{3}/{4}'\n",
    "c_conexion = c_conexion.format(usuario, contrasena, url_servidor, puerto, esquema                               )\n"
   ]
  },
  {
   "cell_type": "code",
   "execution_count": 19,
   "metadata": {},
   "outputs": [],
   "source": [
    "motor_mysql_mariadb = create_engine(c_conexion)"
   ]
  },
  {
   "cell_type": "code",
   "execution_count": 23,
   "metadata": {},
   "outputs": [],
   "source": [
    "consulta_sql = 'select * from vw_pacientes'\n"
   ]
  },
  {
   "cell_type": "code",
   "execution_count": 24,
   "metadata": {},
   "outputs": [],
   "source": [
    "datos = pd.read_sql_query(consulta_sql, motor_mysql_mariadb)"
   ]
  },
  {
   "cell_type": "code",
   "execution_count": 26,
   "metadata": {},
   "outputs": [],
   "source": [
    "sic = datos"
   ]
  },
  {
   "cell_type": "code",
   "execution_count": 39,
   "metadata": {},
   "outputs": [],
   "source": [
    "def digito_verificador(rut):\n",
    "    reversed_digits = map(int, reversed(str(rut)))\n",
    "    factors = cycle(range(2, 8))\n",
    "    s = sum(d * f for d, f in zip(reversed_digits, factors))\n",
    "    dv = (-s) % 11\n",
    "    if dv == 11: dv=0\n",
    "    elif dv == 10: dv=\"K\"\n",
    "    return dv"
   ]
  },
  {
   "cell_type": "code",
   "execution_count": 40,
   "metadata": {},
   "outputs": [],
   "source": [
    "def reemplazamayuscula(dv):\n",
    "    return dv.upper()"
   ]
  },
  {
   "cell_type": "code",
   "execution_count": 27,
   "metadata": {},
   "outputs": [
    {
     "data": {
      "text/plain": [
       "(771494, 26)"
      ]
     },
     "execution_count": 27,
     "metadata": {},
     "output_type": "execute_result"
    }
   ],
   "source": [
    "sic.shape"
   ]
  },
  {
   "cell_type": "code",
   "execution_count": 28,
   "metadata": {},
   "outputs": [
    {
     "data": {
      "text/plain": [
       "Index(['id', 'tipoDoc', 'rut', 'dv', 'numDoc', 'nombre', 'apPaterno',\n",
       "       'apMaterno', 'fechaNacimiento', 'genero', 'prevision', 'tramo', 'prais',\n",
       "       'funcionario', 'vias', 'direccion', 'numero', 'x', 'y', 'codcomuna',\n",
       "       'comuna', 'telefono', 'telefono2', 'email', 'created_at', 'updated_at'],\n",
       "      dtype='object')"
      ]
     },
     "execution_count": 28,
     "metadata": {},
     "output_type": "execute_result"
    }
   ],
   "source": [
    "sic.columns"
   ]
  },
  {
   "cell_type": "markdown",
   "metadata": {},
   "source": [
    "Formato"
   ]
  },
  {
   "cell_type": "code",
   "execution_count": 29,
   "metadata": {},
   "outputs": [
    {
     "data": {
      "text/plain": [
       "id                          int64\n",
       "tipoDoc                     int64\n",
       "rut                       float64\n",
       "dv                         object\n",
       "numDoc                     object\n",
       "nombre                     object\n",
       "apPaterno                  object\n",
       "apMaterno                  object\n",
       "fechaNacimiento            object\n",
       "genero                     object\n",
       "prevision                  object\n",
       "tramo                      object\n",
       "prais                      object\n",
       "funcionario                 int64\n",
       "vias                       object\n",
       "direccion                  object\n",
       "numero                     object\n",
       "x                         float64\n",
       "y                         float64\n",
       "codcomuna                  object\n",
       "comuna                     object\n",
       "telefono                   object\n",
       "telefono2                  object\n",
       "email                      object\n",
       "created_at         datetime64[ns]\n",
       "updated_at         datetime64[ns]\n",
       "dtype: object"
      ]
     },
     "execution_count": 29,
     "metadata": {},
     "output_type": "execute_result"
    }
   ],
   "source": [
    "sic.dtypes"
   ]
  },
  {
   "cell_type": "code",
   "execution_count": 30,
   "metadata": {},
   "outputs": [
    {
     "data": {
      "text/plain": [
       "1353"
      ]
     },
     "execution_count": 30,
     "metadata": {},
     "output_type": "execute_result"
    }
   ],
   "source": [
    "sic['rut'].isnull().sum(axis=0)"
   ]
  },
  {
   "cell_type": "code",
   "execution_count": 31,
   "metadata": {},
   "outputs": [
    {
     "data": {
      "text/plain": [
       "1374"
      ]
     },
     "execution_count": 31,
     "metadata": {},
     "output_type": "execute_result"
    }
   ],
   "source": [
    "sic['dv'].isnull().sum(axis=0)"
   ]
  },
  {
   "cell_type": "code",
   "execution_count": 33,
   "metadata": {},
   "outputs": [],
   "source": [
    "sic['run'] = sic['rut'].fillna(0)"
   ]
  },
  {
   "cell_type": "code",
   "execution_count": 34,
   "metadata": {},
   "outputs": [],
   "source": [
    "sic['dv'] = sic['dv'].fillna('SIN DV')"
   ]
  },
  {
   "cell_type": "markdown",
   "metadata": {},
   "source": [
    "Cambio tipo de datos."
   ]
  },
  {
   "cell_type": "code",
   "execution_count": 35,
   "metadata": {},
   "outputs": [],
   "source": [
    "sic['run'] = sic['run'].astype('int64') "
   ]
  },
  {
   "cell_type": "code",
   "execution_count": 36,
   "metadata": {},
   "outputs": [],
   "source": [
    "sic['dv'] = sic['dv'].astype('str')"
   ]
  },
  {
   "cell_type": "code",
   "execution_count": 37,
   "metadata": {},
   "outputs": [
    {
     "data": {
      "text/plain": [
       "Index(['id', 'tipodoc', 'rut', 'dv', 'numdoc', 'nombre', 'appaterno',\n",
       "       'apmaterno', 'fechanacimiento', 'genero', 'prevision', 'tramo', 'prais',\n",
       "       'funcionario', 'vias', 'direccion', 'numero', 'x', 'y', 'codcomuna',\n",
       "       'comuna', 'telefono', 'telefono2', 'email', 'created_at', 'updated_at',\n",
       "       'run'],\n",
       "      dtype='object')"
      ]
     },
     "execution_count": 37,
     "metadata": {},
     "output_type": "execute_result"
    }
   ],
   "source": [
    "sic.columns.str.lower().str.replace(' ', '')"
   ]
  },
  {
   "cell_type": "code",
   "execution_count": 41,
   "metadata": {},
   "outputs": [],
   "source": [
    "sic['dv'] = sic['dv'].apply(reemplazamayuscula)"
   ]
  },
  {
   "cell_type": "code",
   "execution_count": 42,
   "metadata": {},
   "outputs": [],
   "source": [
    "sic['dvrev'] = sic['run'].apply(digito_verificador)"
   ]
  },
  {
   "cell_type": "code",
   "execution_count": 43,
   "metadata": {},
   "outputs": [],
   "source": [
    "sic['dvrev'] = sic['dvrev'].astype('str')"
   ]
  },
  {
   "cell_type": "code",
   "execution_count": 44,
   "metadata": {},
   "outputs": [
    {
     "data": {
      "text/plain": [
       "id                          int64\n",
       "tipoDoc                     int64\n",
       "rut                       float64\n",
       "dv                         object\n",
       "numDoc                     object\n",
       "nombre                     object\n",
       "apPaterno                  object\n",
       "apMaterno                  object\n",
       "fechaNacimiento            object\n",
       "genero                     object\n",
       "prevision                  object\n",
       "tramo                      object\n",
       "prais                      object\n",
       "funcionario                 int64\n",
       "vias                       object\n",
       "direccion                  object\n",
       "numero                     object\n",
       "x                         float64\n",
       "y                         float64\n",
       "codcomuna                  object\n",
       "comuna                     object\n",
       "telefono                   object\n",
       "telefono2                  object\n",
       "email                      object\n",
       "created_at         datetime64[ns]\n",
       "updated_at         datetime64[ns]\n",
       "run                         int64\n",
       "dvrev                      object\n",
       "dtype: object"
      ]
     },
     "execution_count": 44,
     "metadata": {},
     "output_type": "execute_result"
    }
   ],
   "source": [
    "sic.dtypes"
   ]
  },
  {
   "cell_type": "markdown",
   "metadata": {},
   "source": [
    "## definir condicionales"
   ]
  },
  {
   "cell_type": "code",
   "execution_count": 45,
   "metadata": {},
   "outputs": [],
   "source": [
    "sic['comparacion'] = np.where(sic['dv']==sic['dvrev'], 'OK', 'ERROR')"
   ]
  },
  {
   "cell_type": "code",
   "execution_count": 46,
   "metadata": {},
   "outputs": [
    {
     "ename": "IllegalCharacterError",
     "evalue": "6 LOS MAQUIS \u0013 18018 cannot be used in worksheets.",
     "output_type": "error",
     "traceback": [
      "\u001b[1;31m---------------------------------------------------------------------------\u001b[0m",
      "\u001b[1;31mIllegalCharacterError\u001b[0m                     Traceback (most recent call last)",
      "Cell \u001b[1;32mIn[46], line 1\u001b[0m\n\u001b[1;32m----> 1\u001b[0m sic\u001b[39m.\u001b[39;49mto_excel(\u001b[39m'\u001b[39;49m\u001b[39mrevisado.xlsx\u001b[39;49m\u001b[39m'\u001b[39;49m)\n",
      "File \u001b[1;32mc:\\Users\\carlos.cornejo\\AppData\\Local\\Programs\\Python\\Python311\\Lib\\site-packages\\pandas\\core\\generic.py:2252\u001b[0m, in \u001b[0;36mNDFrame.to_excel\u001b[1;34m(self, excel_writer, sheet_name, na_rep, float_format, columns, header, index, index_label, startrow, startcol, engine, merge_cells, inf_rep, freeze_panes, storage_options)\u001b[0m\n\u001b[0;32m   2239\u001b[0m \u001b[39mfrom\u001b[39;00m \u001b[39mpandas\u001b[39;00m\u001b[39m.\u001b[39;00m\u001b[39mio\u001b[39;00m\u001b[39m.\u001b[39;00m\u001b[39mformats\u001b[39;00m\u001b[39m.\u001b[39;00m\u001b[39mexcel\u001b[39;00m \u001b[39mimport\u001b[39;00m ExcelFormatter\n\u001b[0;32m   2241\u001b[0m formatter \u001b[39m=\u001b[39m ExcelFormatter(\n\u001b[0;32m   2242\u001b[0m     df,\n\u001b[0;32m   2243\u001b[0m     na_rep\u001b[39m=\u001b[39mna_rep,\n\u001b[1;32m   (...)\u001b[0m\n\u001b[0;32m   2250\u001b[0m     inf_rep\u001b[39m=\u001b[39minf_rep,\n\u001b[0;32m   2251\u001b[0m )\n\u001b[1;32m-> 2252\u001b[0m formatter\u001b[39m.\u001b[39;49mwrite(\n\u001b[0;32m   2253\u001b[0m     excel_writer,\n\u001b[0;32m   2254\u001b[0m     sheet_name\u001b[39m=\u001b[39;49msheet_name,\n\u001b[0;32m   2255\u001b[0m     startrow\u001b[39m=\u001b[39;49mstartrow,\n\u001b[0;32m   2256\u001b[0m     startcol\u001b[39m=\u001b[39;49mstartcol,\n\u001b[0;32m   2257\u001b[0m     freeze_panes\u001b[39m=\u001b[39;49mfreeze_panes,\n\u001b[0;32m   2258\u001b[0m     engine\u001b[39m=\u001b[39;49mengine,\n\u001b[0;32m   2259\u001b[0m     storage_options\u001b[39m=\u001b[39;49mstorage_options,\n\u001b[0;32m   2260\u001b[0m )\n",
      "File \u001b[1;32mc:\\Users\\carlos.cornejo\\AppData\\Local\\Programs\\Python\\Python311\\Lib\\site-packages\\pandas\\io\\formats\\excel.py:940\u001b[0m, in \u001b[0;36mExcelFormatter.write\u001b[1;34m(self, writer, sheet_name, startrow, startcol, freeze_panes, engine, storage_options)\u001b[0m\n\u001b[0;32m    937\u001b[0m     need_save \u001b[39m=\u001b[39m \u001b[39mTrue\u001b[39;00m\n\u001b[0;32m    939\u001b[0m \u001b[39mtry\u001b[39;00m:\n\u001b[1;32m--> 940\u001b[0m     writer\u001b[39m.\u001b[39;49m_write_cells(\n\u001b[0;32m    941\u001b[0m         formatted_cells,\n\u001b[0;32m    942\u001b[0m         sheet_name,\n\u001b[0;32m    943\u001b[0m         startrow\u001b[39m=\u001b[39;49mstartrow,\n\u001b[0;32m    944\u001b[0m         startcol\u001b[39m=\u001b[39;49mstartcol,\n\u001b[0;32m    945\u001b[0m         freeze_panes\u001b[39m=\u001b[39;49mfreeze_panes,\n\u001b[0;32m    946\u001b[0m     )\n\u001b[0;32m    947\u001b[0m \u001b[39mfinally\u001b[39;00m:\n\u001b[0;32m    948\u001b[0m     \u001b[39m# make sure to close opened file handles\u001b[39;00m\n\u001b[0;32m    949\u001b[0m     \u001b[39mif\u001b[39;00m need_save:\n",
      "File \u001b[1;32mc:\\Users\\carlos.cornejo\\AppData\\Local\\Programs\\Python\\Python311\\Lib\\site-packages\\pandas\\io\\excel\\_openpyxl.py:489\u001b[0m, in \u001b[0;36mOpenpyxlWriter._write_cells\u001b[1;34m(self, cells, sheet_name, startrow, startcol, freeze_panes)\u001b[0m\n\u001b[0;32m    485\u001b[0m \u001b[39mfor\u001b[39;00m cell \u001b[39min\u001b[39;00m cells:\n\u001b[0;32m    486\u001b[0m     xcell \u001b[39m=\u001b[39m wks\u001b[39m.\u001b[39mcell(\n\u001b[0;32m    487\u001b[0m         row\u001b[39m=\u001b[39mstartrow \u001b[39m+\u001b[39m cell\u001b[39m.\u001b[39mrow \u001b[39m+\u001b[39m \u001b[39m1\u001b[39m, column\u001b[39m=\u001b[39mstartcol \u001b[39m+\u001b[39m cell\u001b[39m.\u001b[39mcol \u001b[39m+\u001b[39m \u001b[39m1\u001b[39m\n\u001b[0;32m    488\u001b[0m     )\n\u001b[1;32m--> 489\u001b[0m     xcell\u001b[39m.\u001b[39;49mvalue, fmt \u001b[39m=\u001b[39m \u001b[39mself\u001b[39m\u001b[39m.\u001b[39m_value_with_fmt(cell\u001b[39m.\u001b[39mval)\n\u001b[0;32m    490\u001b[0m     \u001b[39mif\u001b[39;00m fmt:\n\u001b[0;32m    491\u001b[0m         xcell\u001b[39m.\u001b[39mnumber_format \u001b[39m=\u001b[39m fmt\n",
      "File \u001b[1;32mc:\\Users\\carlos.cornejo\\AppData\\Local\\Programs\\Python\\Python311\\Lib\\site-packages\\openpyxl\\cell\\cell.py:218\u001b[0m, in \u001b[0;36mCell.value\u001b[1;34m(self, value)\u001b[0m\n\u001b[0;32m    215\u001b[0m \u001b[39m@value\u001b[39m\u001b[39m.\u001b[39msetter\n\u001b[0;32m    216\u001b[0m \u001b[39mdef\u001b[39;00m \u001b[39mvalue\u001b[39m(\u001b[39mself\u001b[39m, value):\n\u001b[0;32m    217\u001b[0m \u001b[39m    \u001b[39m\u001b[39m\"\"\"Set the value and infer type and display options.\"\"\"\u001b[39;00m\n\u001b[1;32m--> 218\u001b[0m     \u001b[39mself\u001b[39;49m\u001b[39m.\u001b[39;49m_bind_value(value)\n",
      "File \u001b[1;32mc:\\Users\\carlos.cornejo\\AppData\\Local\\Programs\\Python\\Python311\\Lib\\site-packages\\openpyxl\\cell\\cell.py:197\u001b[0m, in \u001b[0;36mCell._bind_value\u001b[1;34m(self, value)\u001b[0m\n\u001b[0;32m    194\u001b[0m         \u001b[39mself\u001b[39m\u001b[39m.\u001b[39mnumber_format \u001b[39m=\u001b[39m get_time_format(t)\n\u001b[0;32m    196\u001b[0m \u001b[39melif\u001b[39;00m dt \u001b[39m==\u001b[39m \u001b[39m\"\u001b[39m\u001b[39ms\u001b[39m\u001b[39m\"\u001b[39m \u001b[39mand\u001b[39;00m \u001b[39mnot\u001b[39;00m \u001b[39misinstance\u001b[39m(value, CellRichText):\n\u001b[1;32m--> 197\u001b[0m     value \u001b[39m=\u001b[39m \u001b[39mself\u001b[39;49m\u001b[39m.\u001b[39;49mcheck_string(value)\n\u001b[0;32m    198\u001b[0m     \u001b[39mif\u001b[39;00m \u001b[39mlen\u001b[39m(value) \u001b[39m>\u001b[39m \u001b[39m1\u001b[39m \u001b[39mand\u001b[39;00m value\u001b[39m.\u001b[39mstartswith(\u001b[39m\"\u001b[39m\u001b[39m=\u001b[39m\u001b[39m\"\u001b[39m):\n\u001b[0;32m    199\u001b[0m         \u001b[39mself\u001b[39m\u001b[39m.\u001b[39mdata_type \u001b[39m=\u001b[39m \u001b[39m'\u001b[39m\u001b[39mf\u001b[39m\u001b[39m'\u001b[39m\n",
      "File \u001b[1;32mc:\\Users\\carlos.cornejo\\AppData\\Local\\Programs\\Python\\Python311\\Lib\\site-packages\\openpyxl\\cell\\cell.py:165\u001b[0m, in \u001b[0;36mCell.check_string\u001b[1;34m(self, value)\u001b[0m\n\u001b[0;32m    163\u001b[0m value \u001b[39m=\u001b[39m value[:\u001b[39m32767\u001b[39m]\n\u001b[0;32m    164\u001b[0m \u001b[39mif\u001b[39;00m \u001b[39mnext\u001b[39m(ILLEGAL_CHARACTERS_RE\u001b[39m.\u001b[39mfinditer(value), \u001b[39mNone\u001b[39;00m):\n\u001b[1;32m--> 165\u001b[0m     \u001b[39mraise\u001b[39;00m IllegalCharacterError(\u001b[39mf\u001b[39m\u001b[39m\"\u001b[39m\u001b[39m{\u001b[39;00mvalue\u001b[39m}\u001b[39;00m\u001b[39m cannot be used in worksheets.\u001b[39m\u001b[39m\"\u001b[39m)\n\u001b[0;32m    166\u001b[0m \u001b[39mreturn\u001b[39;00m value\n",
      "\u001b[1;31mIllegalCharacterError\u001b[0m: 6 LOS MAQUIS \u0013 18018 cannot be used in worksheets."
     ]
    }
   ],
   "source": [
    "sic.to_excel('revisado.xlsx')"
   ]
  }
 ],
 "metadata": {
  "kernelspec": {
   "display_name": "Python 3",
   "language": "python",
   "name": "python3"
  },
  "language_info": {
   "codemirror_mode": {
    "name": "ipython",
    "version": 3
   },
   "file_extension": ".py",
   "mimetype": "text/x-python",
   "name": "python",
   "nbconvert_exporter": "python",
   "pygments_lexer": "ipython3",
   "version": "3.11.4"
  },
  "orig_nbformat": 4
 },
 "nbformat": 4,
 "nbformat_minor": 2
}
